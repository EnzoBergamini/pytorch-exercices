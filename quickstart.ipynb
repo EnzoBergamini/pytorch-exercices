{
 "cells": [
  {
   "cell_type": "code",
   "execution_count": 10,
   "metadata": {},
   "outputs": [],
   "source": [
    "import numpy as np\n",
    "import matplotlib.pyplot as plt\n",
    "\n",
    "import torch\n",
    "from torch import nn\n",
    "from torch.utils.data import DataLoader\n",
    "from torchvision import datasets\n",
    "from torchvision.transforms import ToTensor"
   ]
  },
  {
   "cell_type": "code",
   "execution_count": 2,
   "metadata": {},
   "outputs": [],
   "source": [
    "training_data = datasets.FashionMNIST(\n",
    "    root=\"data\",\n",
    "    train=True,\n",
    "    download=True,\n",
    "    transform=ToTensor()\n",
    ")"
   ]
  },
  {
   "cell_type": "code",
   "execution_count": 3,
   "metadata": {},
   "outputs": [],
   "source": [
    "test_data = datasets.FashionMNIST(\n",
    "    root=\"data\",\n",
    "    train=False,\n",
    "    download=True,\n",
    "    transform=ToTensor()\n",
    ")"
   ]
  },
  {
   "cell_type": "code",
   "execution_count": 4,
   "metadata": {},
   "outputs": [],
   "source": [
    "labels_map = {\n",
    "    0: \"T-Shirt\",\n",
    "    1: \"Trouser\",\n",
    "    2: \"Pullover\",\n",
    "    3: \"Dress\",\n",
    "    4: \"Coat\",\n",
    "    5: \"Sandal\",\n",
    "    6: \"Shirt\",\n",
    "    7: \"Sneaker\",\n",
    "    8: \"Bag\",\n",
    "    9: \"Ankle Boot\",\n",
    "}"
   ]
  },
  {
   "cell_type": "code",
   "execution_count": 11,
   "metadata": {},
   "outputs": [
    {
     "ename": "NameError",
     "evalue": "name 'training_data' is not defined",
     "output_type": "error",
     "traceback": [
      "\u001b[0;31m---------------------------------------------------------------------------\u001b[0m",
      "\u001b[0;31mNameError\u001b[0m                                 Traceback (most recent call last)",
      "Cell \u001b[0;32mIn[11], line 4\u001b[0m\n\u001b[1;32m      2\u001b[0m cols, rows \u001b[38;5;241m=\u001b[39m \u001b[38;5;241m3\u001b[39m, \u001b[38;5;241m3\u001b[39m\n\u001b[1;32m      3\u001b[0m \u001b[38;5;28;01mfor\u001b[39;00m i \u001b[38;5;129;01min\u001b[39;00m \u001b[38;5;28mrange\u001b[39m(\u001b[38;5;241m1\u001b[39m, cols \u001b[38;5;241m*\u001b[39m rows \u001b[38;5;241m+\u001b[39m \u001b[38;5;241m1\u001b[39m):\n\u001b[0;32m----> 4\u001b[0m     sample_idx \u001b[38;5;241m=\u001b[39m torch\u001b[38;5;241m.\u001b[39mrandint(\u001b[38;5;28mlen\u001b[39m(training_data), size\u001b[38;5;241m=\u001b[39m(\u001b[38;5;241m1\u001b[39m,))\u001b[38;5;241m.\u001b[39mitem()\n\u001b[1;32m      5\u001b[0m     img, label \u001b[38;5;241m=\u001b[39m training_data[sample_idx]\n\u001b[1;32m      6\u001b[0m     figure\u001b[38;5;241m.\u001b[39madd_subplot(rows, cols, i)\n",
      "\u001b[0;31mNameError\u001b[0m: name 'training_data' is not defined"
     ]
    },
    {
     "data": {
      "text/plain": [
       "<Figure size 800x800 with 0 Axes>"
      ]
     },
     "metadata": {},
     "output_type": "display_data"
    }
   ],
   "source": [
    "figure = plt.figure(figsize=(8, 8))\n",
    "cols, rows = 3, 3\n",
    "for i in range(1, cols * rows + 1):\n",
    "    sample_idx = torch.randint(len(training_data), size=(1,)).item()\n",
    "    img, label = training_data[sample_idx]\n",
    "    figure.add_subplot(rows, cols, i)\n",
    "    plt.title(labels_map[label])\n",
    "    plt.axis(\"off\")\n",
    "    plt.imshow(img.squeeze(), cmap=\"gray\")"
   ]
  },
  {
   "cell_type": "code",
   "execution_count": 5,
   "metadata": {},
   "outputs": [],
   "source": [
    "batch_size = 64\n",
    "\n",
    "train_dataloader = DataLoader(training_data, batch_size=batch_size)\n",
    "test_dataloader = DataLoader(test_data, batch_size=batch_size)\n"
   ]
  },
  {
   "cell_type": "code",
   "execution_count": 6,
   "metadata": {},
   "outputs": [
    {
     "name": "stdout",
     "output_type": "stream",
     "text": [
      "Shape of X [N, C, H, W]:  torch.Size([64, 1, 28, 28])\n",
      "Shape of y:  torch.Size([64]) torch.int64\n"
     ]
    }
   ],
   "source": [
    "for X, y in test_dataloader:\n",
    "    print(\"Shape of X [N, C, H, W]: \", X.shape)\n",
    "    print(\"Shape of y: \", y.shape, y.dtype)\n",
    "    break"
   ]
  },
  {
   "cell_type": "code",
   "execution_count": 7,
   "metadata": {},
   "outputs": [
    {
     "name": "stdout",
     "output_type": "stream",
     "text": [
      "Using cuda device\n"
     ]
    }
   ],
   "source": [
    "device = (\n",
    "    \"cuda\" \n",
    "    if torch.cuda.is_available()\n",
    "    else \"mps\"\n",
    "    if torch.backends.mps.is_available()\n",
    "    else \"cpu\"\n",
    ")\n",
    "\n",
    "print(\"Using {} device\".format(device))"
   ]
  },
  {
   "cell_type": "code",
   "execution_count": 8,
   "metadata": {},
   "outputs": [
    {
     "name": "stdout",
     "output_type": "stream",
     "text": [
      "NeuralNetwork(\n",
      "  (flatten): Flatten(start_dim=1, end_dim=-1)\n",
      "  (linear_relu_stack): Sequential(\n",
      "    (0): Linear(in_features=784, out_features=512, bias=True)\n",
      "    (1): ReLU()\n",
      "    (2): Linear(in_features=512, out_features=512, bias=True)\n",
      "    (3): ReLU()\n",
      "    (4): Linear(in_features=512, out_features=10, bias=True)\n",
      "    (5): ReLU()\n",
      "  )\n",
      ")\n"
     ]
    }
   ],
   "source": [
    "class NeuralNetwork(nn.Module):\n",
    "    def __init__(self):\n",
    "        super(NeuralNetwork, self).__init__()\n",
    "        self.flatten = nn.Flatten()\n",
    "        self.linear_relu_stack = nn.Sequential(\n",
    "            nn.Linear(28*28, 512),\n",
    "            nn.ReLU(),\n",
    "            nn.Linear(512, 512),\n",
    "            nn.ReLU(),\n",
    "            nn.Linear(512, 10),\n",
    "            nn.ReLU()\n",
    "        )\n",
    "\n",
    "    def forward(self, x):\n",
    "        x = self.flatten(x)\n",
    "        logits = self.linear_relu_stack(x)\n",
    "        return logits\n",
    "    \n",
    "model = NeuralNetwork().to(device)\n",
    "print(model)"
   ]
  },
  {
   "cell_type": "code",
   "execution_count": 9,
   "metadata": {},
   "outputs": [],
   "source": [
    "loss_fn = nn.CrossEntropyLoss()\n",
    "optimizer = torch.optim.SGD(model.parameters(), lr=1e-3)"
   ]
  },
  {
   "cell_type": "code",
   "execution_count": 10,
   "metadata": {},
   "outputs": [],
   "source": [
    "def train(dataloader, model, loss_fn, optimizer):\n",
    "    size = len(dataloader.dataset)\n",
    "    model.train()\n",
    "    for batch, (X, y) in enumerate(dataloader):\n",
    "        X, y = X.to(device), y.to(device)\n",
    "\n",
    "        pred = model(X)\n",
    "        loss = loss_fn(pred, y)\n",
    "\n",
    "        optimizer.zero_grad()\n",
    "        loss.backward()\n",
    "        optimizer.step()\n",
    "\n",
    "        if batch % 100 == 0:\n",
    "            loss, current = loss.item(), batch * len(X)\n",
    "            print(f\"loss: {loss:>7f} [{current:>5d}/{size:>5d}]\")"
   ]
  },
  {
   "cell_type": "code",
   "execution_count": 11,
   "metadata": {},
   "outputs": [],
   "source": [
    "def test(dataloader, model, loss_fn):\n",
    "    size = len(dataloader.dataset)\n",
    "    num_batches = len(dataloader)\n",
    "    model.eval()\n",
    "    test_loss, correct = 0, 0\n",
    "    with torch.no_grad():\n",
    "        for X, y in dataloader:\n",
    "            X, y = X.to(device), y.to(device)\n",
    "            pred = model(X)\n",
    "            test_loss += loss_fn(pred, y).item()\n",
    "            correct += (pred.argmax(1) == y).type(torch.float).sum().item()\n",
    "    test_loss /= num_batches\n",
    "    correct /= size\n",
    "    print(f\"Test Error: \\n Accuracy: {(100*correct):>0.1f}%, Avg loss: {test_loss:>8f} \\n\")"
   ]
  },
  {
   "cell_type": "code",
   "execution_count": 12,
   "metadata": {},
   "outputs": [
    {
     "name": "stdout",
     "output_type": "stream",
     "text": [
      "Epoch 1\n",
      "-------------------------------\n",
      "loss: 2.307130 [    0/60000]\n",
      "loss: 2.298386 [ 6400/60000]\n",
      "loss: 2.287885 [12800/60000]\n",
      "loss: 2.286118 [19200/60000]\n",
      "loss: 2.287675 [25600/60000]\n",
      "loss: 2.295973 [32000/60000]\n",
      "loss: 2.283621 [38400/60000]\n",
      "loss: 2.282417 [44800/60000]\n",
      "loss: 2.271620 [51200/60000]\n",
      "loss: 2.276968 [57600/60000]\n",
      "Test Error: \n",
      " Accuracy: 37.5%, Avg loss: 2.260251 \n",
      "\n",
      "Epoch 2\n",
      "-------------------------------\n",
      "loss: 2.263272 [    0/60000]\n",
      "loss: 2.251378 [ 6400/60000]\n",
      "loss: 2.227876 [12800/60000]\n",
      "loss: 2.225154 [19200/60000]\n",
      "loss: 2.240151 [25600/60000]\n",
      "loss: 2.262046 [32000/60000]\n",
      "loss: 2.222373 [38400/60000]\n",
      "loss: 2.229206 [44800/60000]\n",
      "loss: 2.205468 [51200/60000]\n",
      "loss: 2.209257 [57600/60000]\n",
      "Test Error: \n",
      " Accuracy: 41.1%, Avg loss: 2.189153 \n",
      "\n",
      "Epoch 3\n",
      "-------------------------------\n",
      "loss: 2.201054 [    0/60000]\n",
      "loss: 2.183871 [ 6400/60000]\n",
      "loss: 2.136797 [12800/60000]\n",
      "loss: 2.122371 [19200/60000]\n",
      "loss: 2.173050 [25600/60000]\n",
      "loss: 2.208306 [32000/60000]\n",
      "loss: 2.126331 [38400/60000]\n",
      "loss: 2.151077 [44800/60000]\n",
      "loss: 2.106250 [51200/60000]\n",
      "loss: 2.105865 [57600/60000]\n",
      "Test Error: \n",
      " Accuracy: 40.1%, Avg loss: 2.085702 \n",
      "\n",
      "Epoch 4\n",
      "-------------------------------\n",
      "loss: 2.114968 [    0/60000]\n",
      "loss: 2.090833 [ 6400/60000]\n",
      "loss: 2.012804 [12800/60000]\n",
      "loss: 1.980262 [19200/60000]\n",
      "loss: 2.089762 [25600/60000]\n",
      "loss: 2.138797 [32000/60000]\n",
      "loss: 1.998797 [38400/60000]\n",
      "loss: 2.059655 [44800/60000]\n",
      "loss: 1.991414 [51200/60000]\n",
      "loss: 1.972193 [57600/60000]\n",
      "Test Error: \n",
      " Accuracy: 40.8%, Avg loss: 1.968286 \n",
      "\n",
      "Epoch 5\n",
      "-------------------------------\n",
      "loss: 2.019107 [    0/60000]\n",
      "loss: 1.990282 [ 6400/60000]\n",
      "loss: 1.889806 [12800/60000]\n",
      "loss: 1.838491 [19200/60000]\n",
      "loss: 2.003374 [25600/60000]\n",
      "loss: 2.065467 [32000/60000]\n",
      "loss: 1.867785 [38400/60000]\n",
      "loss: 1.974354 [44800/60000]\n",
      "loss: 1.881517 [51200/60000]\n",
      "loss: 1.843665 [57600/60000]\n",
      "Test Error: \n",
      " Accuracy: 43.4%, Avg loss: 1.861234 \n",
      "\n",
      "Epoch 6\n",
      "-------------------------------\n",
      "loss: 1.926066 [    0/60000]\n",
      "loss: 1.898288 [ 6400/60000]\n",
      "loss: 1.783800 [12800/60000]\n",
      "loss: 1.720311 [19200/60000]\n",
      "loss: 1.916593 [25600/60000]\n",
      "loss: 1.991763 [32000/60000]\n",
      "loss: 1.758818 [38400/60000]\n",
      "loss: 1.898030 [44800/60000]\n",
      "loss: 1.790116 [51200/60000]\n",
      "loss: 1.745356 [57600/60000]\n",
      "Test Error: \n",
      " Accuracy: 45.8%, Avg loss: 1.771616 \n",
      "\n",
      "Epoch 7\n",
      "-------------------------------\n",
      "loss: 1.844663 [    0/60000]\n",
      "loss: 1.820500 [ 6400/60000]\n",
      "loss: 1.690996 [12800/60000]\n",
      "loss: 1.624096 [19200/60000]\n",
      "loss: 1.836734 [25600/60000]\n",
      "loss: 1.923813 [32000/60000]\n",
      "loss: 1.675632 [38400/60000]\n",
      "loss: 1.834765 [44800/60000]\n",
      "loss: 1.718474 [51200/60000]\n",
      "loss: 1.676346 [57600/60000]\n",
      "Test Error: \n",
      " Accuracy: 47.2%, Avg loss: 1.700227 \n",
      "\n",
      "Epoch 8\n",
      "-------------------------------\n",
      "loss: 1.776438 [    0/60000]\n",
      "loss: 1.757495 [ 6400/60000]\n",
      "loss: 1.613147 [12800/60000]\n",
      "loss: 1.544688 [19200/60000]\n",
      "loss: 1.768890 [25600/60000]\n",
      "loss: 1.865046 [32000/60000]\n",
      "loss: 1.612613 [38400/60000]\n",
      "loss: 1.786981 [44800/60000]\n",
      "loss: 1.662490 [51200/60000]\n",
      "loss: 1.627860 [57600/60000]\n",
      "Test Error: \n",
      " Accuracy: 48.2%, Avg loss: 1.644492 \n",
      "\n",
      "Epoch 9\n",
      "-------------------------------\n",
      "loss: 1.720338 [    0/60000]\n",
      "loss: 1.706744 [ 6400/60000]\n",
      "loss: 1.551553 [12800/60000]\n",
      "loss: 1.481444 [19200/60000]\n",
      "loss: 1.713431 [25600/60000]\n",
      "loss: 1.816857 [32000/60000]\n",
      "loss: 1.564275 [38400/60000]\n",
      "loss: 1.750825 [44800/60000]\n",
      "loss: 1.618806 [51200/60000]\n",
      "loss: 1.591763 [57600/60000]\n",
      "Test Error: \n",
      " Accuracy: 48.7%, Avg loss: 1.601176 \n",
      "\n",
      "Epoch 10\n",
      "-------------------------------\n",
      "loss: 1.673524 [    0/60000]\n",
      "loss: 1.666011 [ 6400/60000]\n",
      "loss: 1.503479 [12800/60000]\n",
      "loss: 1.432141 [19200/60000]\n",
      "loss: 1.670677 [25600/60000]\n",
      "loss: 1.778168 [32000/60000]\n",
      "loss: 1.526888 [38400/60000]\n",
      "loss: 1.723405 [44800/60000]\n",
      "loss: 1.584252 [51200/60000]\n",
      "loss: 1.563896 [57600/60000]\n",
      "Test Error: \n",
      " Accuracy: 49.2%, Avg loss: 1.567351 \n",
      "\n",
      "Done!\n"
     ]
    }
   ],
   "source": [
    "epochs = 10\n",
    "for t in range(epochs):\n",
    "    print(f\"Epoch {t+1}\\n-------------------------------\")\n",
    "    train(train_dataloader, model, loss_fn, optimizer)\n",
    "    test(test_dataloader, model, loss_fn)\n",
    "print(\"Done!\")"
   ]
  },
  {
   "cell_type": "code",
   "execution_count": 13,
   "metadata": {},
   "outputs": [],
   "source": [
    "torch.save(model.state_dict(), \"model/model_quickstart.pth\")"
   ]
  },
  {
   "cell_type": "markdown",
   "metadata": {},
   "source": [
    "# to load the model"
   ]
  },
  {
   "cell_type": "code",
   "execution_count": 20,
   "metadata": {},
   "outputs": [
    {
     "name": "stdout",
     "output_type": "stream",
     "text": [
      "cuda\n"
     ]
    },
    {
     "data": {
      "text/plain": [
       "<All keys matched successfully>"
      ]
     },
     "execution_count": 20,
     "metadata": {},
     "output_type": "execute_result"
    }
   ],
   "source": [
    "model_load = NeuralNetwork().to(device)\n",
    "model_load.load_state_dict(torch.load(\"model/model_quickstart.pth\", weights_only=True))"
   ]
  },
  {
   "cell_type": "markdown",
   "metadata": {},
   "source": [
    "# prediction"
   ]
  },
  {
   "cell_type": "code",
   "execution_count": 18,
   "metadata": {},
   "outputs": [],
   "source": [
    "classe = [\n",
    "    \"T-shirt/top\",\n",
    "    \"Trouser\",\n",
    "    \"Pullover\",\n",
    "    \"Dress\",\n",
    "    \"Coat\",\n",
    "    \"Sandal\",\n",
    "    \"Shirt\",\n",
    "    \"Sneaker\",\n",
    "    \"Bag\",\n",
    "    \"Ankle boot\",\n",
    "]"
   ]
  },
  {
   "cell_type": "code",
   "execution_count": 27,
   "metadata": {},
   "outputs": [
    {
     "name": "stdout",
     "output_type": "stream",
     "text": [
      "Predicted: \"Trouser\", Actual: \"Trouser\"\n"
     ]
    }
   ],
   "source": [
    "model_load.eval()\n",
    "x, y = test_data[0][0], test_data[0][1]\n",
    "with torch.no_grad():\n",
    "    x = x.to(device)\n",
    "    pred = model_load(x)\n",
    "    predicted, actual = classe[pred[0].argmax(0)], classe[y]\n",
    "    print(f'Predicted: \"{predicted}\", Actual: \"{actual}\"')"
   ]
  }
 ],
 "metadata": {
  "kernelspec": {
   "display_name": "pytorch_env",
   "language": "python",
   "name": "python3"
  },
  "language_info": {
   "codemirror_mode": {
    "name": "ipython",
    "version": 3
   },
   "file_extension": ".py",
   "mimetype": "text/x-python",
   "name": "python",
   "nbconvert_exporter": "python",
   "pygments_lexer": "ipython3",
   "version": "3.12.6"
  }
 },
 "nbformat": 4,
 "nbformat_minor": 2
}
