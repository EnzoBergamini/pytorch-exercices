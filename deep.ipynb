{
 "cells": [
  {
   "cell_type": "code",
   "execution_count": 1,
   "metadata": {},
   "outputs": [],
   "source": [
    "import torch\n",
    "import torch.nn as nn\n",
    "import torch.nn.functional as F"
   ]
  },
  {
   "cell_type": "code",
   "execution_count": 4,
   "metadata": {},
   "outputs": [],
   "source": [
    "class Net(nn.Module):\n",
    "\n",
    "    def __init__(self):\n",
    "        super(Net, self).__init__()\n",
    "        self.conv1 = nn.Conv2d(1, 6, 5)\n",
    "\n",
    "        self.conv2 = nn.Conv2d(6, 16, 5)\n",
    "\n",
    "        self.fc1 = nn.Linear(16 * 5 * 5, 120)\n",
    "        self.fc2 = nn.Linear(120, 84)\n",
    "        self.fc3 = nn.Linear(84, 10)\n",
    "\n",
    "    def forward(self, input):\n",
    "        c1 = F.relu(self.conv1(input))\n",
    "\n",
    "        s2 = F.max_pool2d(c1, (2,2))\n",
    "\n",
    "        c3 = F.relu(self.conv2(s2))\n",
    "\n",
    "        s4 = F.max_pool2d(c3, 2)\n",
    "\n",
    "        s4 = torch.flatten(s4, 1)\n",
    "\n",
    "        f5 = F.relu(self.fc1(s4))\n",
    "\n",
    "        f6 = F.relu(self.fc2(f5))\n",
    "\n",
    "        output = self.fc3(f6)\n",
    "\n",
    "        return output"
   ]
  },
  {
   "cell_type": "code",
   "execution_count": 10,
   "metadata": {},
   "outputs": [
    {
     "name": "stdout",
     "output_type": "stream",
     "text": [
      "Net(\n",
      "  (conv1): Conv2d(1, 6, kernel_size=(5, 5), stride=(1, 1))\n",
      "  (conv2): Conv2d(6, 16, kernel_size=(5, 5), stride=(1, 1))\n",
      "  (fc1): Linear(in_features=400, out_features=120, bias=True)\n",
      "  (fc2): Linear(in_features=120, out_features=84, bias=True)\n",
      "  (fc3): Linear(in_features=84, out_features=10, bias=True)\n",
      ")\n",
      "Parameter containing:\n",
      "tensor([[[[ 0.0360, -0.0458, -0.0554,  0.1093, -0.0486],\n",
      "          [ 0.0531, -0.0810,  0.1538, -0.1154, -0.1848],\n",
      "          [-0.1576, -0.0558,  0.0529,  0.0304, -0.0968],\n",
      "          [ 0.1436,  0.1042,  0.1423, -0.0523,  0.1476],\n",
      "          [ 0.1078,  0.0906,  0.1144,  0.1046, -0.0715]]],\n",
      "\n",
      "\n",
      "        [[[-0.0796, -0.0538,  0.0151, -0.0558, -0.1794],\n",
      "          [-0.1093, -0.1531, -0.1947,  0.0020, -0.0272],\n",
      "          [ 0.1211,  0.0710, -0.0610, -0.1255, -0.0112],\n",
      "          [-0.0171, -0.0743,  0.1597, -0.0034,  0.0887],\n",
      "          [-0.1163, -0.1459, -0.0555, -0.1201, -0.0696]]],\n",
      "\n",
      "\n",
      "        [[[ 0.1507, -0.0374, -0.0064, -0.1072, -0.1467],\n",
      "          [-0.0318,  0.1276, -0.1929, -0.1307,  0.0399],\n",
      "          [ 0.0941,  0.0365, -0.0016, -0.0591, -0.0619],\n",
      "          [ 0.1772,  0.1313, -0.0963, -0.1491, -0.0909],\n",
      "          [-0.0668,  0.0866,  0.1148,  0.0662, -0.1454]]],\n",
      "\n",
      "\n",
      "        [[[-0.0941,  0.0857, -0.0125,  0.0096,  0.1780],\n",
      "          [-0.0163, -0.1801, -0.1037, -0.1019,  0.0720],\n",
      "          [-0.1987, -0.0924,  0.0455,  0.1557, -0.1482],\n",
      "          [ 0.1098, -0.1628, -0.0247, -0.0120,  0.1023],\n",
      "          [-0.1408, -0.0647,  0.0292,  0.0132, -0.1639]]],\n",
      "\n",
      "\n",
      "        [[[ 0.0884,  0.0711, -0.0370,  0.0798,  0.1214],\n",
      "          [-0.1732, -0.0627,  0.1384,  0.1398, -0.1990],\n",
      "          [-0.0559, -0.1362, -0.0527,  0.1589, -0.0201],\n",
      "          [ 0.1183, -0.0341, -0.0563, -0.0381, -0.1032],\n",
      "          [ 0.0831, -0.0510, -0.1950, -0.1705, -0.1240]]],\n",
      "\n",
      "\n",
      "        [[[-0.0453, -0.1877, -0.1490,  0.0914, -0.1832],\n",
      "          [-0.1135, -0.1847,  0.1406, -0.1312, -0.0921],\n",
      "          [ 0.0415, -0.1370,  0.1533,  0.1546, -0.1712],\n",
      "          [-0.1863, -0.1359, -0.0943,  0.0446, -0.1934],\n",
      "          [ 0.1551, -0.1363,  0.0837,  0.1335, -0.0936]]]], requires_grad=True)\n",
      "torch.Size([6, 1, 5, 5])\n"
     ]
    }
   ],
   "source": [
    "net = Net()\n",
    "print(net)\n",
    "\n",
    "param = list(net.parameters())\n",
    "print(param[0].size())"
   ]
  },
  {
   "cell_type": "code",
   "execution_count": 11,
   "metadata": {},
   "outputs": [
    {
     "name": "stdout",
     "output_type": "stream",
     "text": [
      "tensor([[ 0.1123, -0.0830, -0.0619,  0.0872,  0.0771, -0.0175, -0.0250, -0.2061,\n",
      "          0.0230, -0.0204]], grad_fn=<AddmmBackward0>)\n"
     ]
    }
   ],
   "source": [
    "input = torch.randn(1, 1, 32, 32)\n",
    "\n",
    "out = net(input)\n",
    "\n",
    "print(out)"
   ]
  },
  {
   "cell_type": "code",
   "execution_count": 12,
   "metadata": {},
   "outputs": [],
   "source": [
    "net.zero_grad()\n",
    "out.backward(torch.randn(1, 10))"
   ]
  },
  {
   "cell_type": "code",
   "execution_count": 13,
   "metadata": {},
   "outputs": [
    {
     "name": "stdout",
     "output_type": "stream",
     "text": [
      "tensor(0.3750, grad_fn=<MseLossBackward0>)\n"
     ]
    }
   ],
   "source": [
    "output = net(input)\n",
    "target = torch.randn(10)\n",
    "target = target.view(1, -1)\n",
    "\n",
    "criterion = nn.MSELoss()\n",
    "\n",
    "loss = criterion(output, target)\n",
    "\n",
    "print(loss)"
   ]
  }
 ],
 "metadata": {
  "kernelspec": {
   "display_name": "pytorch_env",
   "language": "python",
   "name": "python3"
  },
  "language_info": {
   "codemirror_mode": {
    "name": "ipython",
    "version": 3
   },
   "file_extension": ".py",
   "mimetype": "text/x-python",
   "name": "python",
   "nbconvert_exporter": "python",
   "pygments_lexer": "ipython3",
   "version": "3.12.6"
  }
 },
 "nbformat": 4,
 "nbformat_minor": 2
}
